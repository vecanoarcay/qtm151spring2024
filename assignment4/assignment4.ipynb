{
 "cells": [
  {
   "cell_type": "markdown",
   "metadata": {},
   "source": [
    "# Assignment 4"
   ]
  },
  {
   "cell_type": "markdown",
   "metadata": {},
   "source": [
    "## Submit as an HTML file"
   ]
  },
  {
   "cell_type": "markdown",
   "metadata": {},
   "source": [
    "<font size = \"5\">\n",
    "Print your Emory ID below"
   ]
  },
  {
   "cell_type": "code",
   "execution_count": 47,
   "metadata": {},
   "outputs": [
    {
     "name": "stdout",
     "output_type": "stream",
     "text": [
      "2492420\n"
     ]
    }
   ],
   "source": [
    "print(2492420)"
   ]
  },
  {
   "cell_type": "markdown",
   "metadata": {},
   "source": [
    "<font size = \"5\">\n",
    "\n",
    "Import both the MatPlotLib and Numpy libraries"
   ]
  },
  {
   "cell_type": "code",
   "execution_count": 2,
   "metadata": {},
   "outputs": [],
   "source": [
    "# the \"numPy\" library is used for mathematical operations\n",
    "# the \"matplotlib\" library is for generating graphs\n",
    "\n",
    "import numpy as np\n",
    "import matplotlib.pyplot as plt"
   ]
  },
  {
   "cell_type": "markdown",
   "metadata": {},
   "source": [
    "<font size = \"5\">\n",
    "\n",
    "1. For-loops to count conditional statements\n",
    "\n",
    "<font size = \"3\">\n",
    "\n",
    "   - Define a custom list of people's ages <br>\n",
    "   (write down ages for 8 people, between ten and fifty)\n",
    "   - Define an empty list called ```list_eligible```\n",
    "   - Use a For-Loop that goes through the ages of the 8 people, then appends the <br>\n",
    "   value ```True``` to  ```list_eligible``` if their age is greater than or equal to 16 <br>\n",
    "   and ```False``` otherwise\n"
   ]
  },
  {
   "cell_type": "code",
   "execution_count": 3,
   "metadata": {},
   "outputs": [
    {
     "name": "stdout",
     "output_type": "stream",
     "text": [
      "[True, True, False, False, True, True, False, True]\n"
     ]
    }
   ],
   "source": [
    "# Write your own code\n",
    "list_ages = [21,50,10,12,33,24,14,34]\n",
    "list_eligible = [None] * 8\n",
    "index = 0\n",
    "for age in list_ages:\n",
    "    if age >= 16:\n",
    "        list_eligible[index] = True\n",
    "    else:\n",
    "        list_eligible[index] = False\n",
    "    index = index + 1\n",
    "\n",
    "print(list_eligible)                                       "
   ]
  },
  {
   "cell_type": "markdown",
   "metadata": {},
   "source": [
    "<font size = \"5\">\n",
    "\n",
    "2.  This is a follow-up to question 1. \n",
    "\n",
    "<font size = \"3\">\n",
    "\n",
    "- If you run ```np.sum(list_eligible)```, what value is Python assigning to <br>\n",
    " ```True``` or ```False``` elements in the sum? Write you answer as a comment.\n",
    "- How would you use this information to count the amount of people who are <br>\n",
    "**NOT** eligible? Write code that answers this question.\n",
    "\n",
    "   "
   ]
  },
  {
   "cell_type": "code",
   "execution_count": 4,
   "metadata": {},
   "outputs": [
    {
     "name": "stdout",
     "output_type": "stream",
     "text": [
      "5\n",
      "3\n"
     ]
    }
   ],
   "source": [
    "# Write your own code\n",
    "value = np.sum(list_eligible)\n",
    "print(value)\n",
    "\n",
    "#Python assigns 1 to True\n",
    "#Python assigns 0 to False\n",
    "\n",
    "#Counting not eligible people\n",
    "not_eligible = len(list_eligible) - np.sum(list_eligible)\n",
    "print(not_eligible)"
   ]
  },
  {
   "cell_type": "markdown",
   "metadata": {},
   "source": [
    "<font size = \"5\">\n",
    "\n",
    "3. Use a For-Loop for message automation \n",
    "\n",
    "<font size = \"3\">\n",
    "\n",
    "- Write your own list of customer names\n",
    "- Print an automated message with the unique name of the customer that tells <br>\n",
    "them they've won a giveaway \n",
    "- How many messages to do you expect to see? Write code that automatically <br>\n",
    "prints the size of the customer list"
   ]
  },
  {
   "cell_type": "code",
   "execution_count": 5,
   "metadata": {},
   "outputs": [
    {
     "name": "stdout",
     "output_type": "stream",
     "text": [
      "Hello Pete! You have won the giveaway!\n",
      "Hello John! You have won the giveaway!\n",
      "Hello Albert! You have won the giveaway!\n",
      "The size of the costumer list is: 3\n"
     ]
    }
   ],
   "source": [
    "# Write your own code\n",
    "list_costumers = [\"Pete\", \"John\" , \"Albert\"]\n",
    "\n",
    "for costumer in list_costumers:\n",
    "    print(\"Hello \" + costumer + \"! You have won the giveaway!\")\n",
    "\n",
    " #number of messages we expect to see\n",
    "print(\"The size of the costumer list is: \" + str(len(list_costumers)))   "
   ]
  },
  {
   "cell_type": "markdown",
   "metadata": {},
   "source": [
    "<font size = '5'>\n",
    "\n",
    "4. For-Loops + Plotting\n",
    "\n",
    "<font size = \"3\">\n",
    "\n",
    "   - Create an array of x-values with all the integers between 1 and 10\n",
    "   - Create a vector ```vec_y1``` where each element is computed from <br>\n",
    "   the formula $ y_1 = 0.5x^4 + 2x^2 + 4x$.\n",
    "   - Create a vector ```vec_y2``` where each element is computed from <br>\n",
    "   the formula $ y_2 = 2x^3 + 4x + 4$.\n",
    "   - Create an object ```list_vectors``` with elements ```vec_y1``` and ```vec_y2```\n",
    "   - Create a for-loop that goes through each element of <br>\n",
    "   ```list_vectors``` and plots each list of $y$ values against $x$\n",
    "\n",
    "Note: The final output should be a 2 dimensional scatter plot with two sets, <br>\n",
    "of points, with the $y_1$ and $y_2$ on the vertical axis, and the $x$ values <br>\n",
    "on the horizontal axis. Remember to always label the axes to make it look <br>\n",
    "more professional."
   ]
  },
  {
   "cell_type": "code",
   "execution_count": 6,
   "metadata": {},
   "outputs": [
    {
     "data": {
      "image/png": "[encoded data removed]",
      "text/plain": [
       "<Figure size 640x480 with 1 Axes>"
      ]
     },
     "metadata": {},
     "output_type": "display_data"
    }
   ],
   "source": [
    "# Write your own code\n",
    "x_values = np.array([1,2,3,4,5,6,7,8,9,10])\n",
    "\n",
    "vec_y1 = (0.5*(x_values**4))+(2*(x_values**2))+(4*x_values)\n",
    "\n",
    "vec_y2 = (2*(x_values**3))+(4*x_values)+4\n",
    "\n",
    "list_vectors = np.array([vec_y1,vec_y2])\n",
    "\n",
    "\n",
    "list_vectors = np.array([vec_y1, vec_y2])\n",
    "i = 1\n",
    "\n",
    "for vector in list_vectors:\n",
    "    plt.scatter(x_values, vector, label = \"vec_y\" + str(i))\n",
    "    i = i+1\n",
    "\n",
    "plt.ylabel(\"y values\")\n",
    "plt.xlabel(\"x values\")\n",
    "plt.legend()\n",
    "plt.show()\n"
   ]
  },
  {
   "cell_type": "markdown",
   "metadata": {},
   "source": [
    "<font size = \"5\">\n",
    "\n",
    "5. Loops + Multiple Lists\n",
    "\n",
    "<font size =\"3\">\n",
    "\n",
    "Before starting, read the following information about nested loops:\n",
    "\n",
    "https://www.w3schools.com/python/gloss_python_for_nested.asp\n",
    "\n",
    "<img src=\"figures/grading_scale.png\" alt=\"drawing\" width=\"600\"/>\n",
    "\n",
    "- Convert the following three lists to arrays\n",
    "\n",
    "```list_lower = [93, 87, 83, 80, 75, 70, 65, 60, 55, 0] ``` <br>\n",
    "```list_upper = [100,92, 86, 82, 79, 74, 69, 64, 59, 54] ``` <br>\n",
    "```list_letters = [\"A\",\"A-\",\"B+\",\"B\",\"B-\",\"C+\",\"C\",\"C-\",\"D\",\"F\"] ```\n",
    "\n",
    "- Convert the following list of student grades to an array\n",
    "\n",
    "```list_studentgrades = [80, 70, 96, 65, 92] ```\n",
    "\n",
    "- Create a nested for-loop that outputs\n",
    "\n",
    "\"The student got a numeric grade of .... and their letter grade was ...\"\n",
    "\n",
    "Example of the procedure:\n",
    "1. Start with the first student on the list, who's grade is 80.\n",
    "2. Check whether the student's grade is an A by checking whether 80 is between <br>\n",
    "93 and 100. Then check whether it's a B by checking whether the grade is between <br>\n",
    "87 and 92, and so on. This is the \"inner loop\".\n",
    "3. Within the inner loop, if you find the right grade bracket, print the <br>\n",
    "desired message. Else, do not print anything.\n",
    "4. Do this procedure for all students, i.e. the \"outer loop\".\n",
    "\n",
    "\n",
    "\n"
   ]
  },
  {
   "cell_type": "code",
   "execution_count": 7,
   "metadata": {},
   "outputs": [
    {
     "name": "stdout",
     "output_type": "stream",
     "text": [
      "The student got a numeric grade of 80 and their letter grade was B\n",
      "The student got a numeric grade of 70 and their letter grade was C+\n",
      "The student got a numeric grade of 96 and their letter grade was A\n",
      "The student got a numeric grade of 65 and their letter grade was C\n"
     ]
    }
   ],
   "source": [
    "#creating lists\n",
    "list_lower = [93, 87, 83, 80, 75, 70, 65, 60, 55, 0]\n",
    "list_upper = [100,92, 86, 82, 79, 74, 69, 64, 59, 54]\n",
    "list_letters = [\"A\",\"A-\",\"B+\",\"B\",\"B-\",\"C+\",\"C\",\"C-\",\"D\",\"F\"]\n",
    "\n",
    "#converting into array\n",
    "vec_lower = np.array(list_lower)\n",
    "vec_upper = np.array(list_upper)\n",
    "vec_letters = np.array(list_letters)\n",
    "\n",
    "list_studentgrades = [80, 70, 96, 65, 92]\n",
    "vec_studentgrades = np.array(list_studentgrades)\n",
    "\n",
    "for student_grade in vec_studentgrades:\n",
    "    for i in range(len(vec_lower)):\n",
    "        if vec_lower[i] <= student_grade < vec_upper[i]:\n",
    "            print(\"The student got a numeric grade of \" + str(student_grade) + \" and their letter grade was \" + vec_letters[i])\n",
    "            break"
   ]
  }
 ],
 "metadata": {
  "kernelspec": {
   "display_name": "base",
   "language": "python",
   "name": "python3"
  },
  "language_info": {
   "codemirror_mode": {
    "name": "ipython",
    "version": 3
   },
   "file_extension": ".py",
   "mimetype": "text/x-python",
   "name": "python",
   "nbconvert_exporter": "python",
   "pygments_lexer": "ipython3",
   "version": "3.11.5"
  }
 },
 "nbformat": 4,
 "nbformat_minor": 2
}
