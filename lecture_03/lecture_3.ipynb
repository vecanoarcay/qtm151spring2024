{
 "cells": [
  {
   "attachments": {},
   "cell_type": "markdown",
   "metadata": {},
   "source": [
    "# <span style=\"color:darkblue\"> Lecture 3: Mathematical Operations and Random Numbers </span>"
   ]
  },
  {
   "attachments": {},
   "cell_type": "markdown",
   "metadata": {},
   "source": [
    "<font size=\"5\"> \n",
    "\n",
    "In the previous class we:\n",
    "- Introduced lists and variable types\n",
    "- Talked about how to extract elements from a list"
   ]
  },
  {
   "attachments": {},
   "cell_type": "markdown",
   "metadata": {},
   "source": [
    "<font size=\"5\"> \n",
    "\n",
    "In this class we will:\n",
    "\n",
    "- Introduce a library for general mathematical operations\n",
    "- Generate random numbers\n",
    "- (Optional) Matrix operations"
   ]
  },
  {
   "attachments": {},
   "cell_type": "markdown",
   "metadata": {},
   "source": [
    "## <span style=\"color:darkblue\"> I. Import Libraries </span>"
   ]
  },
  {
   "cell_type": "code",
   "execution_count": 1,
   "metadata": {},
   "outputs": [],
   "source": [
    "# the \"numPy\" library is used for mathematical operations\n",
    "# the \"matplotlib\" library is for generating graphs\n",
    "\n",
    "import numpy as np\n",
    "import matplotlib.pyplot as plt\n"
   ]
  },
  {
   "attachments": {},
   "cell_type": "markdown",
   "metadata": {},
   "source": [
    "##  <span style=\"color:darkblue\"> II. Numbers and Functions </span>"
   ]
  },
  {
   "attachments": {},
   "cell_type": "markdown",
   "metadata": {},
   "source": [
    "<font size = \"5\" >\n",
    "Examples of numPy numbers"
   ]
  },
  {
   "cell_type": "code",
   "execution_count": 16,
   "metadata": {},
   "outputs": [
    {
     "data": {
      "text/plain": [
       "3.141592653589793"
      ]
     },
     "execution_count": 16,
     "metadata": {},
     "output_type": "execute_result"
    }
   ],
   "source": [
    "# Computes \"pi\" (3.14...)\n",
    "\n",
    "np.pi"
   ]
  },
  {
   "attachments": {},
   "cell_type": "markdown",
   "metadata": {},
   "source": [
    "<font size = \"5\" >\n",
    "\n",
    "Examples of numPy functions\n",
    "\n",
    "$ ln(x), e^x, sin(x), cos(x), \\sqrt{x}$"
   ]
  },
  {
   "cell_type": "code",
   "execution_count": 30,
   "metadata": {},
   "outputs": [
    {
     "name": "stdout",
     "output_type": "stream",
     "text": [
      "0.0\n",
      "2.718281828459045\n",
      "0.8414709848078965\n",
      "0.5403023058681398\n",
      "1.0\n"
     ]
    }
   ],
   "source": [
    "# log(x) computes the logarithm with base \"e\" (Euler constant)\n",
    "# exp(x) compute the Euler constant raised to the power of \"x\"\n",
    "# sing(x) computes the sine of x\n",
    "# cos(x) computes the cosine of x\n",
    "# In this example, we're substituting x = 1\n",
    "\n",
    "print(np.log(1))\n",
    "print(np.exp(1))\n",
    "print(np.sin(1))\n",
    "print(np.cos(1))\n",
    "print(np.sqrt(1))"
   ]
  },
  {
   "attachments": {},
   "cell_type": "markdown",
   "metadata": {},
   "source": [
    "<font size = \"5\">\n",
    "\n",
    "Try it yourself!\n",
    "\n",
    "- Create a new variable, $x = 5$\n",
    "- Compute $\\pi x^2$\n",
    "- Compute $ \\frac{1}{\\sqrt{2\\pi}}e^{-x^2} $"
   ]
  },
  {
   "cell_type": "code",
   "execution_count": 68,
   "metadata": {},
   "outputs": [
    {
     "name": "stdout",
     "output_type": "stream",
     "text": [
      "21.991148575128552\n",
      "0.0003637882707952594\n"
     ]
    }
   ],
   "source": [
    "# Write your own code\n",
    "x = 5\n",
    "print(np.pi*(x^2))\n",
    "print((1/np.sqrt(2*np.pi))*(np.exp(-x^2)))"
   ]
  },
  {
   "attachments": {},
   "cell_type": "markdown",
   "metadata": {},
   "source": [
    "##  <span style=\"color:darkblue\"> III. Vector Arrays </span>"
   ]
  },
  {
   "attachments": {},
   "cell_type": "markdown",
   "metadata": {},
   "source": [
    "<font size = \"5\">\n",
    "Create an array from a list\n",
    "\n",
    "$ \\text{ }$\n",
    "$ a = \\begin{pmatrix} 1 \\\\ 2 \\\\ 3 \\end{pmatrix}\n",
    "\\qquad b = \\begin{pmatrix} 0 \\\\ 1 \\\\ 0\\end{pmatrix}\n",
    "\\qquad c = \\begin{pmatrix} 10 \\\\ 100 \\\\ 1000 \\\\ 2000 \\\\ 5000 \\end{pmatrix} \n",
    "\\qquad d = \\begin{pmatrix} 4 \\\\ 2 \\end{pmatrix} $"
   ]
  },
  {
   "cell_type": "code",
   "execution_count": 80,
   "metadata": {},
   "outputs": [],
   "source": [
    "# You create an array by converting a list [1,2,3] to a numeric object\n",
    "# \"array\" is a subfunction of the library numPy.\n",
    "\n",
    "vec_a  = np.array([1,2,3])\n",
    "vec_b  = np.array([0,1,0])\n",
    "vec_c  = np.array([10,100,1000,2000,5000])\n"
   ]
  },
  {
   "attachments": {},
   "cell_type": "markdown",
   "metadata": {},
   "source": [
    "<font size = \"5\">\n",
    "\n",
    "Accessing an element of an array"
   ]
  },
  {
   "cell_type": "code",
   "execution_count": 91,
   "metadata": {},
   "outputs": [
    {
     "name": "stdout",
     "output_type": "stream",
     "text": [
      "1\n",
      "3\n"
     ]
    }
   ],
   "source": [
    "# Arrays, like lists, start their numbering at zero.\n",
    "# You also access them with square brackets\n",
    "\n",
    "print(vec_a[0])\n",
    "print(vec_a[2])\n"
   ]
  },
  {
   "attachments": {},
   "cell_type": "markdown",
   "metadata": {},
   "source": [
    "<font size = \"5\">\n",
    "Operations with a single array and a scalar"
   ]
  },
  {
   "attachments": {},
   "cell_type": "markdown",
   "metadata": {},
   "source": [
    "<font size = \"5\">\n",
    "\n",
    "$ a + 2 = \\begin{pmatrix} a_1 + 2 \\\\ a_2 + 2 \\\\ a_3 + 2 \\end{pmatrix}$"
   ]
  },
  {
   "cell_type": "code",
   "execution_count": 101,
   "metadata": {},
   "outputs": [
    {
     "name": "stdout",
     "output_type": "stream",
     "text": [
      "[2 4 6]\n",
      "[0.5 1.  1.5]\n",
      "[3 4 5]\n",
      "[1 4 9]\n"
     ]
    }
   ],
   "source": [
    "# A scalar refers to either an int or float\n",
    "# We can do many common operations with \n",
    "\n",
    "print(vec_a * 2)\n",
    "print(vec_a / 2)\n",
    "print(vec_a + 2)\n",
    "print(vec_a ** 2)"
   ]
  },
  {
   "attachments": {},
   "cell_type": "markdown",
   "metadata": {},
   "source": [
    "<font size = \"5\">\n",
    "Element-by-element addition between two arrays of the same size\n",
    "\n",
    "$\\text{ }$\n",
    "\n",
    "$ a + b = \\begin{pmatrix} a_1 \\\\ a_2 \\\\ a_3 \\end{pmatrix} +\n",
    "          \\begin{pmatrix} b_1 \\\\ b_2 \\\\ b_3 \\end{pmatrix} =\n",
    "          \\begin{pmatrix} a_1 + b_1 \\\\ a_2 + b_2 \\\\ a_3 + b_3 \\end{pmatrix}$"
   ]
  },
  {
   "cell_type": "code",
   "execution_count": 102,
   "metadata": {},
   "outputs": [
    {
     "name": "stdout",
     "output_type": "stream",
     "text": [
      "[1 2 3]\n",
      "[0 1 0]\n"
     ]
    }
   ],
   "source": [
    "print(vec_a)\n",
    "print(vec_b)"
   ]
  },
  {
   "cell_type": "code",
   "execution_count": 110,
   "metadata": {},
   "outputs": [
    {
     "name": "stdout",
     "output_type": "stream",
     "text": [
      "[1 3 3]\n"
     ]
    }
   ],
   "source": [
    "# When you add two arrays of the same size,\n",
    "# Python adds the individual elements in each position\n",
    "\n",
    "print(vec_a + vec_b)\n"
   ]
  },
  {
   "attachments": {},
   "cell_type": "markdown",
   "metadata": {},
   "source": [
    "<font size =\"5\">\n",
    "\n",
    "The default multiplication option is element-by element:\n",
    "\n",
    "$ a * b = \\begin{pmatrix} a_1 * b_1 \\\\ a_2 * b_2 \\\\ a_3 * b_3 \\end{pmatrix}$"
   ]
  },
  {
   "cell_type": "code",
   "execution_count": 117,
   "metadata": {},
   "outputs": [
    {
     "name": "stdout",
     "output_type": "stream",
     "text": [
      "[0 2 0]\n",
      "[1 1 3]\n",
      "[inf  2. inf]\n"
     ]
    },
    {
     "name": "stderr",
     "output_type": "stream",
     "text": [
      "/var/folders/vj/wfkzt3yx2_jc3tyy5__wn82w0000gn/T/ipykernel_33079/3839639845.py:6: RuntimeWarning: divide by zero encountered in divide\n",
      "  print(vec_a / vec_b)\n"
     ]
    }
   ],
   "source": [
    "# We can do other similar element-by-element operations\n",
    "# such as multiplication, subtraction, and division.\n",
    "\n",
    "print(vec_a * vec_b)\n",
    "print(vec_a - vec_b)\n",
    "print(vec_a / vec_b)\n"
   ]
  },
  {
   "attachments": {},
   "cell_type": "markdown",
   "metadata": {},
   "source": [
    "<font size = \"5\">\n",
    "Summary statistics of an array"
   ]
  },
  {
   "cell_type": "code",
   "execution_count": 123,
   "metadata": {},
   "outputs": [
    {
     "name": "stdout",
     "output_type": "stream",
     "text": [
      "2.0\n",
      "0.816496580927726\n",
      "1\n",
      "2.0\n",
      "3\n"
     ]
    }
   ],
   "source": [
    "# The function np.mean() computes the mean of an array\n",
    "# We can do similar operations for the standard deviation (std),\n",
    "# the minimum (min), the median (median), and the maximum (max).\n",
    "\n",
    "print(np.mean(vec_a))\n",
    "print(np.std(vec_a))\n",
    "print(np.min(vec_a))\n",
    "print(np.median(vec_a))\n",
    "print(np.max(vec_a))"
   ]
  },
  {
   "attachments": {},
   "cell_type": "markdown",
   "metadata": {},
   "source": [
    "<font size = \"5\">\n",
    "\n",
    "Try it yourself! Compute the mean of\n",
    "\n",
    "\n",
    "$ e = \\begin{pmatrix} 10 \\\\ 8 \\\\ 15 \\\\ 0 \\\\ 24 \\end{pmatrix} $"
   ]
  },
  {
   "cell_type": "code",
   "execution_count": 128,
   "metadata": {},
   "outputs": [
    {
     "name": "stdout",
     "output_type": "stream",
     "text": [
      "11.4\n"
     ]
    }
   ],
   "source": [
    "# Create your own array and compute any of the above summary statistics\n",
    "\n",
    "vec_e  = np.array([10,8,15,0,24])\n",
    "print(np.mean(vec_e))"
   ]
  },
  {
   "attachments": {},
   "cell_type": "markdown",
   "metadata": {},
   "source": [
    "<font size = \"5\">\n",
    "<span style=\"color:red\"> Common Pitfall </span>: Make sure that the arrays have the same size"
   ]
  },
  {
   "cell_type": "code",
   "execution_count": 132,
   "metadata": {},
   "outputs": [
    {
     "name": "stdout",
     "output_type": "stream",
     "text": [
      "[1 2 3]\n",
      "[  10  100 1000 2000 5000]\n"
     ]
    }
   ],
   "source": [
    "print(vec_a)\n",
    "print(vec_c)"
   ]
  },
  {
   "cell_type": "code",
   "execution_count": 135,
   "metadata": {},
   "outputs": [
    {
     "data": {
      "text/plain": [
       "(3,)"
      ]
     },
     "execution_count": 135,
     "metadata": {},
     "output_type": "execute_result"
    }
   ],
   "source": [
    "vec_a.shape"
   ]
  },
  {
   "cell_type": "code",
   "execution_count": 137,
   "metadata": {},
   "outputs": [
    {
     "ename": "ValueError",
     "evalue": "operands could not be broadcast together with shapes (3,) (5,) ",
     "output_type": "error",
     "traceback": [
      "\u001b[0;31m---------------------------------------------------------------------------\u001b[0m",
      "\u001b[0;31mValueError\u001b[0m                                Traceback (most recent call last)",
      "Cell \u001b[0;32mIn[137], line 3\u001b[0m\n\u001b[1;32m      1\u001b[0m \u001b[38;5;66;03m# Here I try to combine two arrays of different size.\u001b[39;00m\n\u001b[0;32m----> 3\u001b[0m vec_a \u001b[38;5;241m+\u001b[39m vec_c\n",
      "\u001b[0;31mValueError\u001b[0m: operands could not be broadcast together with shapes (3,) (5,) "
     ]
    }
   ],
   "source": [
    "# Here I try to combine two arrays of different size.\n",
    "\n",
    "vec_a + vec_c"
   ]
  },
  {
   "attachments": {},
   "cell_type": "markdown",
   "metadata": {},
   "source": [
    "##  <span style=\"color:darkblue\"> IV. Random Numbers </span>\n",
    "\n",
    "<font size = \"5\">\n",
    "\n",
    "Why randomness?\n",
    "\n",
    "- Simulate different scenarios: high risk or low risk\n",
    "- Study properties of a complex system and/or estimator\n",
    "- In medicine, randomly assign subjects to treatment or control"
   ]
  },
  {
   "attachments": {},
   "cell_type": "markdown",
   "metadata": {},
   "source": [
    "<font size = \"5\">\n",
    "\n",
    "Create a vector of random variables"
   ]
  },
  {
   "cell_type": "code",
   "execution_count": 138,
   "metadata": {},
   "outputs": [
    {
     "name": "stdout",
     "output_type": "stream",
     "text": [
      "[-0.00420142  0.26958359 -0.08560867  0.02639882 -0.63986188 -1.71398987\n",
      " -0.36085553 -0.19714889  0.46685444  2.20159095]\n"
     ]
    }
   ],
   "source": [
    "# This code creates a vector of random variables \n",
    "# generated from a normal distribution with\n",
    "# mean \"loc\" (location) and standard deviation \"scale\"\n",
    "# the number of distinct variabels is \"size\"\n",
    "\n",
    "randomvar_a = np.random.normal(loc=0, scale=1, size=10)\n",
    "print(randomvar_a)"
   ]
  },
  {
   "attachments": {},
   "cell_type": "markdown",
   "metadata": {},
   "source": [
    "<font size = \"5\">\n",
    "\n",
    "Random numbers differ every time!\n",
    "\n",
    "- Avoid this problem by drawing from a \"pregenerated\" set.\n",
    "- This is called a seed"
   ]
  },
  {
   "cell_type": "code",
   "execution_count": 148,
   "metadata": {},
   "outputs": [
    {
     "name": "stdout",
     "output_type": "stream",
     "text": [
      "[ 1.11417929  1.44487377  0.26473752 -0.41701187 -1.71332341 -0.20751871\n",
      " -0.2088598  -1.03876599 -0.15437717 -0.67879554]\n"
     ]
    }
   ],
   "source": [
    "# Your computer will typically generate different numbers every time you run a command\n",
    "# However, sometimes you want to be able to replicate the results\n",
    "# You can choose any other number instead of \"12345\". This will produce another set\n",
    "# of random numbers, but they will give the same answers\n",
    "\n",
    "np.random.seed(10393)\n",
    "\n",
    "random_var_b = np.random.normal(loc=0, scale=1, size=10)\n",
    "print(random_var_b)"
   ]
  },
  {
   "attachments": {},
   "cell_type": "markdown",
   "metadata": {},
   "source": [
    "<font size = \"5\">\n",
    "\n",
    "Compute a histogram with the results"
   ]
  },
  {
   "cell_type": "code",
   "execution_count": 157,
   "metadata": {},
   "outputs": [
    {
     "data": {
      "text/plain": [
       "Text(0, 0.5, 'Frequency')"
      ]
     },
     "execution_count": 157,
     "metadata": {},
     "output_type": "execute_result"
    },
    {
     "data": {
      "image/png": "[encoded data removed]",
      "text/plain": [
       "<Figure size 640x480 with 1 Axes>"
      ]
     },
     "metadata": {},
     "output_type": "display_data"
    }
   ],
   "source": [
    "# Compute a histogram\n",
    "# You can edit the number of bins with plt.hist(x = randomvar_a)\n",
    "\n",
    "randomvar_x = np.random.normal(loc=0, scale=1, size=10)\n",
    "\n",
    "plt.hist(x = randomvar_x)\n",
    "plt.xlabel(\"Variable a\")\n",
    "plt.ylabel(\"Frequency\")"
   ]
  },
  {
   "attachments": {},
   "cell_type": "markdown",
   "metadata": {},
   "source": [
    "<font size = \"5\">\n",
    "\n",
    "Try this again with $size = 100, 1000, 10000$"
   ]
  },
  {
   "cell_type": "code",
   "execution_count": 165,
   "metadata": {},
   "outputs": [
    {
     "name": "stdout",
     "output_type": "stream",
     "text": [
      "[ 1.5802214  -0.00865313 -0.22376715  0.95201728 -0.99214086 -1.42155233\n",
      "  2.12685003 -0.3718225  -0.13242412 -1.2312751  -0.67068415  1.77003635\n",
      " -0.00930229  0.04298725  0.06739381  0.0579307   1.29676626 -0.85737885\n",
      " -0.43238919  1.66475247 -2.1822704  -2.93966749 -0.09405346  0.95776045\n",
      "  0.94435564  0.11398895  0.36473976  1.09534296 -0.00854362  0.23767192\n",
      " -1.09955534  2.40364558 -1.67133433 -0.65533048  0.8904583  -0.28105168\n",
      "  0.95349042  0.14525919  0.52509892 -1.63835176  1.67013542  0.59514055\n",
      " -0.45148701 -0.47278671 -2.47323712 -1.34441236  0.89778772 -1.47730375\n",
      "  0.4673104  -1.55101822  0.28346085 -0.80697204  1.05531057  0.22676321\n",
      " -0.14856335 -0.93852164  1.68307439 -1.43911587  0.16252834 -0.50988179\n",
      "  0.86459932  0.19604997 -1.52879186  0.17221168  0.82949089 -0.01814445\n",
      " -0.39154347  1.06984544  0.65269693 -0.65440563 -0.43516176  0.16634857\n",
      "  1.56536135 -0.83660432 -0.57984489  1.69885616 -0.39575456 -0.32529881\n",
      " -0.21598904  1.25606343  1.00920569 -0.39375757 -0.71197774 -1.56289677\n",
      "  0.59516658 -1.41820022  0.25833609 -0.56334465  1.00385482 -0.28525351\n",
      " -1.22563567  1.58372813  0.87057463  2.13870961 -0.00545454 -0.65103445\n",
      " -0.36398012 -1.0832357  -0.64238432  1.28757974]\n",
      "[ 8.96397053e-02 -1.71592279e-01  6.36284856e-01 -4.37683843e-01\n",
      "  1.68431343e+00  1.76253075e+00  2.84401848e+00  4.94958227e-02\n",
      " -1.42813004e+00  4.06145507e-02  1.67936280e+00  1.03063205e+00\n",
      "  1.89798273e-01  2.94386379e-01 -5.65226696e-01 -3.36240313e-01\n",
      " -1.18522105e+00 -4.90980907e-01  3.78295953e-01 -8.57055383e-01\n",
      "  1.12059276e-01  8.51928051e-01 -7.61347740e-01  9.15978477e-01\n",
      " -1.24379805e-01 -1.08259596e-01  1.96685927e-01 -3.85881427e-01\n",
      " -1.24784159e+00  9.93562405e-01  1.19478219e+00  8.48123796e-01\n",
      "  5.54054177e-01  7.83194521e-01  1.22641044e+00 -5.24816948e-01\n",
      " -1.55056469e+00 -5.63194618e-01  4.79698283e-02 -1.38319025e+00\n",
      "  4.35218911e-01  4.40130275e-01 -6.52604291e-01  3.78455844e-01\n",
      "  1.10505923e+00 -9.58344358e-01 -6.85306664e-01  1.00552180e+00\n",
      "  4.18922899e+00 -2.42816401e+00  4.47597316e-01  9.42946660e-01\n",
      "  4.13786854e-01  1.87654319e+00  6.85948851e-02  6.11699157e-01\n",
      "  3.17061736e-01  1.74422268e+00 -7.35793393e-01  1.35645736e+00\n",
      "  4.59817645e-01 -1.11230857e+00 -4.43316455e-01  1.80159356e+00\n",
      " -4.30711012e-01  1.89304010e+00 -5.38005172e-01  1.40474923e-01\n",
      "  2.74031826e-01  1.36066586e-02  8.21115301e-01  6.96646326e-01\n",
      "  5.96913309e-01 -1.93474096e-01 -5.95690620e-01 -3.66081628e-01\n",
      " -1.24056077e-01 -1.41054795e+00  1.00744845e+00 -8.42756273e-01\n",
      "  9.17853499e-01  1.53629437e+00 -3.51214923e-01 -3.93746084e-01\n",
      "  1.10385186e+00 -7.09763868e-01 -1.60224793e+00 -4.33351066e-02\n",
      " -1.90116433e+00 -4.38683542e-01  3.25481365e-01  8.98723809e-01\n",
      " -8.10647851e-01  6.68096780e-01 -9.38320556e-01  1.57445985e-02\n",
      "  1.33012097e+00  9.45319169e-01  5.46680994e-02  1.26963407e+00\n",
      "  1.59552542e+00 -1.18697187e+00 -2.85141687e-01  1.63591212e+00\n",
      "  1.76980788e+00  5.98080389e-01 -1.40368084e+00  8.47980612e-01\n",
      "  1.62139906e+00 -2.83289335e-01  1.09983527e+00 -7.22265926e-01\n",
      "  2.91142663e-01  8.18921303e-01  1.02211188e+00  1.85597486e-01\n",
      "  6.56574996e-01 -9.46620865e-02 -9.16544132e-01 -4.17123793e-02\n",
      "  2.67376395e-02  1.06660074e+00 -5.50009013e-01  1.13769619e+00\n",
      "  6.54977376e-01  1.22663417e+00 -1.55809559e+00  1.49673011e+00\n",
      " -8.03365643e-01  2.02197502e+00  7.31914500e-01  9.75115445e-01\n",
      "  4.19864700e-02 -3.06636070e-01 -7.26105037e-01  2.27738332e+00\n",
      "  7.38927009e-01 -1.62380753e+00  2.58458797e+00  8.54430993e-01\n",
      " -9.13146767e-01 -1.13793545e+00 -1.97396359e+00 -1.98470781e-01\n",
      "  5.12608975e-01 -5.12801116e-01 -1.54085493e-01 -1.25419684e+00\n",
      " -6.52969493e-01  2.34114605e-01 -5.72409805e-01 -6.49490719e-01\n",
      "  4.32661434e-01 -4.57343429e-02 -3.05662863e-02  9.23383700e-01\n",
      " -6.03234652e-01 -1.35662398e-01 -9.13933352e-01  2.07076423e-02\n",
      " -7.70049211e-02 -1.24428224e+00  7.71497314e-02 -1.45099066e+00\n",
      "  1.57322699e+00  1.33434549e+00  1.61003326e-01  9.85858666e-02\n",
      "  1.55741527e-02  6.74145365e-01  7.38761889e-01  7.34830889e-01\n",
      " -2.02983198e-01 -1.65348914e+00  2.47912723e-01  7.48269232e-01\n",
      "  1.10218054e+00 -2.24137106e+00 -1.31653820e+00 -6.81345388e-02\n",
      " -2.07028858e+00  5.36014722e-01  1.23410378e+00  1.48525832e+00\n",
      " -1.61933761e+00 -7.94458218e-01 -7.88235056e-01  4.68319006e-01\n",
      "  1.10777882e+00  5.22564120e-01 -3.62250344e-01  7.00795442e-01\n",
      " -5.84943634e-01 -3.80918145e-01 -1.16678354e+00  2.10640699e-01\n",
      "  1.76992462e-01  2.13372705e+00 -2.24132390e-01 -6.85568052e-01\n",
      "  4.68688680e-01 -5.47743352e-01 -1.53633033e-03  7.49934943e-01\n",
      "  1.29074539e+00  9.63345742e-02 -3.23217660e-01  3.47325410e+00\n",
      "  1.08948119e+00 -3.43652510e-01  5.49631603e-02  4.32297731e-01\n",
      "  1.10073568e+00 -8.96068449e-01  1.26563249e+00  1.00158818e+00\n",
      " -1.88963107e-01 -3.41261054e-01 -5.07389571e-01 -1.31519199e-01\n",
      " -4.65196662e-01 -6.78552354e-01  1.06640277e+00 -4.81987811e-01\n",
      " -1.53494268e+00  6.80658421e-01 -2.37916221e-01  8.55003585e-01\n",
      " -4.22673660e-01  1.00355068e+00  4.67510403e-01 -7.00291219e-01\n",
      "  1.15058933e+00 -5.74679704e-01  1.42745484e+00  7.15016450e-02\n",
      "  1.10503757e+00 -1.14251083e+00 -4.13200499e-02  1.35994343e-01\n",
      "  7.72160869e-01  5.64939981e-01 -1.43862084e+00  7.24316095e-01\n",
      " -1.92835489e-01 -6.93561601e-01  7.99527185e-01  7.94259392e-01\n",
      " -4.44109568e-01  2.06736669e-01  6.12756900e-01 -3.10870464e-01\n",
      "  7.17703576e-02  7.89631016e-02  2.86371205e-01  7.52216385e-01\n",
      " -1.03371993e-01  2.77790794e-01  2.33869841e+00  2.19674876e-01\n",
      " -7.89561615e-01 -2.64678653e+00  2.38653930e-01  1.30563581e-01\n",
      " -9.63864732e-01  5.21710034e-01  9.13785768e-01 -4.75071083e-01\n",
      "  1.66868691e+00  8.13615566e-01 -9.57329121e-01 -4.46438203e-01\n",
      " -5.59711901e-01  6.18166878e-01  1.31248870e+00  1.75228839e-01\n",
      "  3.02450763e+00 -1.59172096e+00  1.17636871e+00  1.37742819e+00\n",
      " -9.12083557e-01  2.53443825e-01 -1.87244000e+00  9.87721122e-03\n",
      " -3.21482140e+00  1.64749353e-01 -8.98565907e-01  7.17700812e-02\n",
      "  1.95645120e-01  6.76655114e-01  4.94976493e-01  1.77721728e+00\n",
      "  9.91478905e-01  1.24920480e+00  4.86634684e-01 -8.01137043e-01\n",
      " -4.25639712e-01 -1.85177017e+00 -1.29371286e+00  1.56181757e+00\n",
      "  2.00336080e+00  1.10411388e-01  1.81293571e+00  8.21090427e-01\n",
      " -1.49433728e+00  1.61717796e+00 -6.31669459e-01  1.48219592e-01\n",
      " -1.33626445e+00  7.52104390e-01  1.11696355e-01 -1.09710301e+00\n",
      " -3.86598866e-01  1.55964434e+00 -1.10358337e+00  1.74782193e-01\n",
      " -1.75347498e+00  7.39599334e-01  5.24569001e-02 -8.93941591e-01\n",
      "  7.26818845e-01 -6.29548997e-01 -1.82057481e+00  5.43535253e-01\n",
      "  2.42861294e-03  2.09200242e+00 -1.80254178e-01 -1.38636075e-01\n",
      "  1.00065500e+00 -8.97158181e-02 -8.40286023e-02 -2.80729262e-01\n",
      " -7.15963977e-01  1.06117284e+00 -1.51209426e+00  1.11430161e+00\n",
      "  1.57954353e-01 -1.43331467e+00  5.12797010e-01  3.91454339e-01\n",
      " -6.94735521e-01  2.55207606e+00  3.13692974e-01  2.70406810e+00\n",
      "  7.81035356e-01 -1.81495772e+00  1.56579450e+00 -7.34245901e-01\n",
      " -1.14904728e+00  2.52148648e-01 -4.73562213e-01 -1.51231920e-01\n",
      " -5.69813041e-01 -3.82724047e-01  1.36343947e+00  1.70552532e+00\n",
      "  3.68320357e-01  6.90714619e-01  2.22187566e+00  4.90456717e-02\n",
      "  1.12938866e+00  1.32855722e+00 -2.02166145e+00 -3.82555575e-01\n",
      "  5.19955601e-03 -1.27248760e+00 -3.72246238e-01  2.19961881e+00\n",
      " -1.36830058e+00 -1.75121613e+00 -1.65918345e+00 -1.19704115e+00\n",
      "  2.29997907e+00 -8.83338270e-02 -4.99069678e-01 -1.59971781e+00\n",
      "  7.34224566e-02  1.45049339e-01  1.03790699e+00 -1.15823219e+00\n",
      " -9.39137135e-01  7.73612469e-02 -9.98135076e-01 -3.15675030e-01\n",
      " -2.26049854e+00 -1.87724330e+00 -5.00831362e-01 -6.51380790e-01\n",
      "  1.28837052e-01 -7.57766573e-01  5.74897961e-01  9.26980359e-02\n",
      " -1.13721493e+00 -3.06353235e-01 -2.07934579e+00 -1.63006141e-01\n",
      " -1.66992420e-01  8.50357352e-01  4.85794373e-01 -1.49806690e+00\n",
      " -1.80388101e+00 -1.03157209e+00  3.58302035e-01  9.47877614e-01\n",
      " -1.71520905e+00 -6.14418608e-01  1.29931158e+00 -4.33404598e-01\n",
      "  1.39585531e+00  3.94801747e-01 -1.94718882e+00 -5.51478393e-01\n",
      " -6.11657912e-01 -1.30116359e-01  6.52679786e-01  8.73550936e-01\n",
      "  8.38622068e-01 -4.07765773e-01  1.06333547e+00 -2.02626898e-01\n",
      "  7.18109104e-01 -4.63815698e-02  6.81323817e-01 -3.88802302e-01\n",
      "  1.07150403e+00 -4.55016188e-01 -2.83330351e+00 -8.74812899e-01\n",
      " -7.80674892e-01 -1.12395132e+00  9.80734683e-01 -2.77171719e-01\n",
      "  2.61535381e+00 -2.59094960e+00  1.42463365e+00 -1.02775834e-01\n",
      "  9.03601518e-01  5.04487850e-01 -5.87915432e-01  8.05741260e-01\n",
      " -1.04402324e+00  1.20585985e+00  2.83748371e-01 -1.60248852e+00\n",
      " -1.74764665e+00 -9.29838933e-01 -7.31936969e-01 -6.53142790e-01\n",
      " -6.85078606e-01  1.07019490e+00 -2.10280800e+00  1.06388439e-01\n",
      "  4.31605437e-01  7.86426474e-01 -1.49944834e+00 -2.04178604e-01\n",
      " -1.71663842e+00 -1.44163262e+00  5.84857781e-01  1.26017318e+00\n",
      "  9.42626421e-01 -8.86969296e-01  4.52845770e-01  1.55760518e+00\n",
      "  5.05000965e-01 -9.72993027e-01  6.47660596e-01  9.53509391e-01\n",
      "  8.45328006e-01 -2.32209284e-02 -3.36050631e-02 -1.06432772e+00\n",
      " -6.97920054e-01 -5.69202773e-02  1.55316577e+00 -1.81322917e-01\n",
      "  6.82813676e-01  2.07738741e+00 -6.22614258e-02 -6.41737056e-01\n",
      " -1.03506116e+00 -8.66432278e-02 -1.15731247e-01 -9.44851878e-01\n",
      " -5.87072236e-01 -6.80153831e-01  8.24108681e-01 -7.10281858e-01\n",
      " -9.09871832e-01  8.99705538e-01  1.88958758e+00 -1.44269184e-02\n",
      "  1.69233456e+00  1.23904943e+00 -1.31806058e+00  2.71171807e-01\n",
      "  1.01440248e+00  5.06119074e-02 -1.64359882e+00  1.68451396e+00\n",
      "  4.16918508e-01  6.27753004e-01 -5.74409563e-01 -2.27957030e-01\n",
      "  4.84777871e-01 -9.70801279e-01 -2.15610110e-01 -9.05367061e-01\n",
      "  2.69082893e+00 -1.42813662e+00 -4.63280714e-01  3.15250619e-01\n",
      "  7.53266394e-01  4.33341490e-02  5.95211446e-01  1.81748024e+00\n",
      "  7.85907752e-01 -1.35733782e+00 -1.18916142e+00 -3.14247094e-01\n",
      "  1.34167634e+00  1.26870523e+00  7.45596297e-01 -7.55528648e-01\n",
      "  7.27544381e-02  3.26444288e+00  3.32846008e-01  2.55077977e-01\n",
      "  1.77816926e+00  7.20069411e-02 -2.13220290e+00 -9.64239468e-01\n",
      "  1.27906483e+00  1.34209385e-01 -1.93596718e+00 -1.66120880e-02\n",
      "  5.13891099e-01  5.05950751e-01 -9.62738540e-02  1.04064496e+00\n",
      " -8.57253572e-01 -9.45951860e-01  1.04812270e+00  9.96334972e-01\n",
      " -3.92361620e-01 -4.36749477e-01  3.38203858e-01  2.85124055e-01\n",
      "  1.53871704e+00 -1.02404623e+00  1.75025803e+00 -1.08800481e+00\n",
      " -1.66352723e-01 -1.20129457e-02 -3.34870657e-01 -1.48732485e-01\n",
      " -7.48838154e-01  1.09659504e-01  1.10967393e-01  1.91376190e+00\n",
      "  1.21420415e+00 -5.63170283e-02  5.23465943e-01 -3.98504427e-01\n",
      "  1.21711339e-01 -2.02581101e-01 -8.15301292e-01  8.90016665e-01\n",
      " -5.91551360e-01  9.94756969e-01  2.70504359e-01 -9.54902739e-01\n",
      "  1.71521109e-02  5.07423454e-01  1.33603323e-03  7.06783943e-01\n",
      " -1.20676990e+00  1.18055013e+00 -2.48282631e-01  8.22992497e-01\n",
      "  5.62099818e-01 -9.16189125e-02 -1.11642981e+00 -2.04574804e+00\n",
      "  9.83501598e-03  1.07169242e+00  8.72123314e-01 -7.74133702e-02\n",
      "  3.48651729e-01 -4.10589524e-01  1.22559873e-01 -5.28203681e-01\n",
      " -1.04322550e+00 -5.67101365e-01 -8.93828253e-01 -3.69306011e-01\n",
      " -3.60619639e-01 -1.65705315e+00 -6.38714352e-01  1.54654431e+00\n",
      " -1.68813426e+00  6.96794018e-01  7.03559079e-01  1.32341648e+00\n",
      "  2.03355039e+00  5.76508207e-03 -1.35420811e-01 -7.00327399e-01\n",
      " -1.57409093e+00 -5.31620300e-01  4.46624671e-01 -1.27189983e+00\n",
      "  1.65571514e+00 -9.20713836e-01 -1.60014589e+00 -1.21461202e+00\n",
      " -7.19784855e-01 -1.99699268e+00 -9.48739000e-01 -5.28207473e-01\n",
      " -7.53065929e-01  1.09660889e+00 -1.08765388e-01  5.14391756e-01\n",
      " -1.75251643e-02 -2.69125051e-01 -4.08163855e-01 -7.67236010e-01\n",
      "  1.03983436e-03 -9.20842584e-01 -1.25602500e+00  6.05418968e-01\n",
      "  5.40211714e-01  4.77229576e-01 -3.90727391e-02  6.15706971e-02\n",
      "  7.00519552e-01  1.00597998e+00 -2.52197242e+00  4.51922873e-01\n",
      " -2.20856618e-01 -1.86228245e+00 -1.34115510e+00  7.94983544e-02\n",
      " -1.89039693e+00  6.12522434e-02 -3.84320127e-01  1.04259352e+00\n",
      " -2.11141267e-01  8.53401303e-01 -5.01816168e-01  9.46903893e-01\n",
      "  1.86586842e+00 -1.71255791e+00  9.57677355e-01  1.27020184e-01\n",
      " -1.47319630e-02  1.60640430e+00  1.57101373e-01  2.70336340e-01\n",
      "  4.89492350e-01  1.97232134e-01  1.22158843e+00 -4.13524102e-01\n",
      " -8.79776551e-01  1.54675575e+00  5.58496691e-01 -7.89902280e-01\n",
      " -4.39423152e-01 -1.16019225e+00  6.86184923e-01 -7.13243473e-02\n",
      "  3.05306443e-01  9.49866215e-01 -3.34589911e-01 -2.73979494e+00\n",
      " -1.54939776e-01  1.31249139e-01  8.97121302e-02  7.75648803e-01\n",
      "  7.04777265e-01  1.33717573e+00  3.80062872e-02 -5.86619010e-01\n",
      " -9.18365022e-01  1.37741149e+00  9.11569388e-01 -2.76834059e-01\n",
      " -3.47747013e-01 -1.05091449e-01 -1.43716277e-01 -4.83647724e-01\n",
      "  9.19932776e-01 -2.85854072e-02  5.40631306e-01 -3.53432449e-01\n",
      " -1.18855938e+00 -1.06294789e+00  1.88921051e+00  3.11363847e-01\n",
      "  7.53852348e-01  9.43067333e-02 -6.43033759e-01  7.67154898e-01\n",
      "  2.30100670e-01 -4.34987529e-01  3.02868387e-01 -8.96975566e-01\n",
      "  3.90284529e-01  1.38891212e-01 -1.62024612e-01 -6.77353167e-01\n",
      " -8.71836618e-01  3.25736357e-01  1.18699270e-01 -1.11727622e+00\n",
      " -2.39675772e-01  2.40206946e+00  1.08396066e+00  3.84331221e-01\n",
      " -8.60385510e-01  1.15384837e+00  9.93740572e-01  6.54167726e-02\n",
      " -1.93763766e+00  9.61248013e-01  1.04619950e+00 -1.21552162e+00\n",
      "  1.80598563e+00 -4.54062753e-01 -6.59746290e-01  1.55057780e+00\n",
      " -1.76462449e-02 -6.90136116e-01 -1.63279217e+00 -8.35805107e-01\n",
      " -5.12524937e-01 -1.08361915e+00 -1.16920041e+00  5.74250233e-01\n",
      " -4.11486803e-01  2.12055896e-01 -1.37500265e+00 -8.00615306e-01\n",
      "  1.07805731e+00 -2.11717760e-01 -1.82246028e+00  6.24262247e-02\n",
      "  1.20070821e-01 -1.17771036e+00  4.57013174e-01  3.48615749e-01\n",
      "  1.66612435e+00 -1.43299096e+00 -1.36593673e+00  6.61098768e-01\n",
      " -8.24334404e-02 -2.23343990e-01 -9.28895829e-01 -4.94367854e-01\n",
      "  8.39134508e-01 -2.40026402e-01  2.28298594e-01 -1.50840524e+00\n",
      " -3.70483791e-01  3.75192559e-01  8.32373993e-01  8.85161736e-01\n",
      "  2.67847247e-01 -6.98556439e-01  7.96821230e-02  1.78864234e+00\n",
      " -2.70697685e-01 -8.30795929e-01 -6.91507878e-01 -7.41986775e-01\n",
      "  1.19516007e+00 -6.29692132e-01 -3.32017068e-01 -1.96789029e-01\n",
      " -3.37277260e-01 -9.95467079e-01 -1.40719828e+00  4.21932940e-01\n",
      "  4.75068528e-01 -7.33492984e-02 -1.17081173e+00 -7.12937992e-01\n",
      "  1.67233646e+00  1.10949918e+00  1.00938299e+00  5.96618306e-01\n",
      " -6.45101093e-01 -8.03630705e-01  5.29083095e-01 -1.41849767e-01\n",
      " -6.50354861e-01 -1.18619715e+00 -1.22286998e+00  3.64092027e-01\n",
      "  8.85049531e-01  1.30990565e+00  4.97025398e-01  2.82158939e-01\n",
      "  1.69849411e+00 -1.09146808e+00 -8.01728649e-01  6.63209320e-01\n",
      " -7.64156900e-02 -5.64862272e-01 -2.46091546e-01 -6.73531142e-01\n",
      " -7.17545106e-01  8.18950864e-01 -4.55048803e-01  1.33656632e+00\n",
      " -1.72859560e+00 -2.60988319e-01 -1.79712901e+00  1.12758506e+00\n",
      " -4.55278114e-01 -9.56866572e-02  1.67926215e-01 -3.40962035e-01\n",
      " -2.04376973e-01 -1.09023807e+00  8.08661783e-02  2.09344460e+00\n",
      "  3.00059925e-01  6.21717749e-01 -4.97277103e-01 -9.16849195e-04\n",
      "  2.49739210e+00 -2.72599056e+00  2.28644518e-01 -3.17811746e-01\n",
      "  1.86787328e+00  4.58318139e-02 -1.87435146e+00  1.25614490e+00\n",
      "  1.42563106e+00  9.62245660e-01  5.40933444e-01 -5.84123035e-01\n",
      "  1.44157157e-01  1.72567033e+00 -2.91979310e-01  1.69029827e-01\n",
      " -1.01583289e+00 -9.61156512e-01  4.25502433e-01  8.09478143e-02\n",
      " -8.99097775e-01 -2.11781181e+00  9.56187821e-01 -3.03070716e-01\n",
      " -3.31693300e-01  3.12403224e-01  1.47049795e-01 -6.14857441e-01\n",
      "  2.24057298e-01  1.27266913e+00 -7.43744694e-01 -7.31970644e-01\n",
      "  9.67823570e-01  6.45057394e-02 -1.56321169e-01 -1.66013073e+00\n",
      "  1.34645460e+00  1.72857875e-01 -3.04879079e-01  1.16254441e+00\n",
      "  2.64410542e-01  2.04412856e+00  3.60967712e-01 -3.31668680e-01\n",
      "  7.11397974e-01 -2.82749458e-01  3.57690077e-01  1.26504643e+00\n",
      "  1.00771251e+00  1.47068522e+00  7.92867579e-01  1.46502016e+00\n",
      " -3.37943917e-01  8.06593194e-01  5.53335477e-01 -2.23254376e+00\n",
      " -4.19532413e-01  1.03978687e+00 -1.07947833e+00 -6.05491561e-01\n",
      " -2.03962772e-01 -2.00888769e+00  1.48223797e+00  1.38661571e+00\n",
      " -1.06014161e+00  1.29907433e+00  5.67662083e-02  2.38190708e+00\n",
      " -9.45833113e-01  1.18913844e+00 -2.75367857e-01  1.14983704e+00\n",
      "  3.21067808e-01 -8.90985311e-01 -9.28324189e-01  5.94625037e-01\n",
      "  1.00965714e+00  1.53595432e+00  2.57081703e+00  2.39607594e+00\n",
      " -1.11476242e+00  1.22717215e+00 -1.59723221e+00  1.37951614e-01\n",
      "  2.01510337e-01  9.94678831e-01  1.94026864e-01  4.17061019e-01\n",
      "  7.14014680e-01  1.39976389e+00 -2.47938331e-01  9.96829024e-01\n",
      " -1.88196770e+00  1.19561634e-01 -1.52667472e-01  6.95578446e-01\n",
      " -1.34133868e+00  1.77066780e+00 -1.24917826e+00 -5.05267159e-01\n",
      " -1.30659638e+00  1.30748083e+00  1.71416252e-01 -9.98612245e-01\n",
      "  1.73892780e-01  1.72326946e-01  4.49384500e-01  1.70105027e-01\n",
      "  8.11851198e-01  2.03399958e-02 -1.36184345e+00  1.09648636e+00\n",
      "  1.37590836e+00  8.94134093e-01 -1.04264320e+00 -1.22907733e+00\n",
      "  1.14843583e+00 -8.99028289e-01 -1.09512080e+00  2.08011525e+00\n",
      " -9.03428724e-01 -6.49370775e-01  1.24770976e-01  6.36695386e-01\n",
      "  9.16950214e-01  7.17502360e-01  7.49029176e-01 -3.06497932e-01\n",
      " -3.38246177e-01  4.08624142e-01  7.21190514e-01  9.91825686e-01\n",
      "  1.20516534e+00 -3.81060907e-01  5.47537645e-01 -8.47211784e-01\n",
      "  2.30264312e+00 -4.33353194e-01 -1.09925988e+00  5.01411593e-01\n",
      "  1.44058511e-01  5.78227781e-01  5.53762289e-01 -7.44298096e-01\n",
      " -2.74321469e+00  1.25978555e+00  6.44994700e-01 -3.85604830e-01\n",
      "  4.74255896e-01  3.84032823e-01 -3.17833142e-01  9.91082314e-01\n",
      "  2.14173154e+00 -3.23504757e-01 -6.85292038e-01  1.57229478e+00\n",
      " -7.10461121e-01 -9.14502842e-01  1.40408497e+00  4.25739800e-01\n",
      "  1.49411031e+00  1.01020106e+00  1.90058995e-01 -3.19408669e-01\n",
      "  1.55457509e+00 -1.72091671e-01  4.94211566e-01  1.14421020e-01]\n",
      "[ 0.26499279  0.02548873 -0.58566105 ...  0.17802904  0.69542506\n",
      " -0.3350729 ]\n"
     ]
    }
   ],
   "source": [
    "# Write the code for your histogram\n",
    "randomvar_1 = np.random.normal(loc=0, scale=1, size=100)\n",
    "randomvar_2 = np.random.normal(loc=0, scale=1, size=1000)\n",
    "randomvar_3 = np.random.normal(loc=0, scale=1, size=10000)\n",
    "\n",
    "print(randomvar_1)\n",
    "print(randomvar_2)\n",
    "print(randomvar_3)\n",
    "\n",
    "\n"
   ]
  },
  {
   "attachments": {},
   "cell_type": "markdown",
   "metadata": {},
   "source": [
    "# <span style=\"color:darkblue\"> Additional Resources </span>\n",
    "\n",
    "<font size=\"5\"> \n",
    "\n",
    "Check out additional examples at:\n",
    "\n",
    "- https://allendowney.github.io/ElementsOfDataScience/03_arrays.html\n",
    "\n",
    "\n"
   ]
  },
  {
   "attachments": {},
   "cell_type": "markdown",
   "metadata": {},
   "source": [
    "# <span style=\"color:darkblue\"> (Optional) Matrix Operations </span>\n",
    "\n",
    "<font size=\"5\"> \n"
   ]
  },
  {
   "attachments": {},
   "cell_type": "markdown",
   "metadata": {},
   "source": [
    "<font size = \"5\">\n",
    "Creating a matrix by stacking different rows\n",
    "\n",
    "$ \\text{ }$\n",
    "\n",
    "$ X = \\begin{pmatrix} 1 & 2 & 3 \\\\ \n",
    "                       0 & 4 & 5 \\\\\n",
    "                       0 & 0 & 6\n",
    "                       \\end{pmatrix} $"
   ]
  },
  {
   "cell_type": "code",
   "execution_count": 172,
   "metadata": {},
   "outputs": [
    {
     "name": "stdout",
     "output_type": "stream",
     "text": [
      "[[1 2 3]\n",
      " [0 4 5]\n",
      " [0 0 6]]\n"
     ]
    }
   ],
   "source": [
    "# Matrices are usually denoted by capital letters\n",
    "# The object [[1,2,3],[4,5,6],[7,8,9]] is a list of lists\n",
    "# It's useful to maintain this notation in the code as well\n",
    "\n",
    "X = np.array([[1,2,3],[0,4,5],[0,0,6]])\n",
    "print(X)"
   ]
  },
  {
   "attachments": {},
   "cell_type": "markdown",
   "metadata": {},
   "source": [
    "<font size = \"5\">\n",
    "Creating a matrix by stacking different columns\n",
    "\n",
    "$ \\text{ } $\n",
    "\n",
    "$ Y = \\begin{pmatrix} 1 & 2 \\\\ 0 & 1 \\\\ 1 & 0 \\end{pmatrix}$"
   ]
  },
  {
   "cell_type": "code",
   "execution_count": 178,
   "metadata": {},
   "outputs": [
    {
     "name": "stdout",
     "output_type": "stream",
     "text": [
      "[[1 2]\n",
      " [0 1]\n",
      " [1 0]]\n"
     ]
    }
   ],
   "source": [
    "# You can also stack columns\n",
    "Y =  np.column_stack([[1,0,1],[2,1,0]])\n",
    "print(Y)"
   ]
  },
  {
   "attachments": {},
   "cell_type": "markdown",
   "metadata": {},
   "source": [
    "<font size = \"5\">\n",
    "Transpose\n",
    "\n",
    "$ \\text{ }$\n",
    "\n",
    "$ Y' = \\begin{pmatrix}  1 & 0 & 1 \\\\ 2 & 1 & 0  \\end{pmatrix} $"
   ]
  },
  {
   "cell_type": "code",
   "execution_count": 183,
   "metadata": {},
   "outputs": [
    {
     "data": {
      "text/plain": [
       "array([[1, 0, 1],\n",
       "       [2, 1, 0]])"
      ]
     },
     "execution_count": 183,
     "metadata": {},
     "output_type": "execute_result"
    }
   ],
   "source": [
    "# Matrix Transpose\n",
    "np.matrix.transpose(Y)"
   ]
  },
  {
   "attachments": {},
   "cell_type": "markdown",
   "metadata": {},
   "source": [
    "<font size = \"5\">\n",
    "\n",
    "Matrix multiplication\n",
    "\n",
    "$ XY = \\begin{pmatrix} 1 & 2 & 3 \\\\ \n",
    "                       0 & 4 & 5 \\\\\n",
    "                       0 & 0 & 6\n",
    "                       \\end{pmatrix}\n",
    "                       \\begin{pmatrix} 1 & 2 \\\\ 0 & 1 \\\\ 1 & 0 \\end{pmatrix} = \n",
    "        \\begin{pmatrix} 4 & 4 \\\\ 5 & 4 \\\\ 6 & 0 \\end{pmatrix} $"
   ]
  },
  {
   "cell_type": "code",
   "execution_count": 187,
   "metadata": {},
   "outputs": [
    {
     "data": {
      "text/plain": [
       "array([[4, 4],\n",
       "       [5, 4],\n",
       "       [6, 0]])"
      ]
     },
     "execution_count": 187,
     "metadata": {},
     "output_type": "execute_result"
    }
   ],
   "source": [
    "# Matrix Multiplication\n",
    "\n",
    "np.dot(X,Y)\n",
    "\n",
    "np.matmul(X,Y)"
   ]
  },
  {
   "attachments": {},
   "cell_type": "markdown",
   "metadata": {},
   "source": [
    "<font size = \"5\">\n",
    "\n",
    "Matrix inverse\n",
    "\n",
    "$ X^{-1} = \\begin{pmatrix} 1 & 2 & 3 \\\\ \n",
    "                       0 & 4 & 5 \\\\\n",
    "                       0 & 0 & 6\n",
    "                       \\end{pmatrix}^{-1} $"
   ]
  },
  {
   "cell_type": "code",
   "execution_count": 190,
   "metadata": {},
   "outputs": [
    {
     "name": "stdout",
     "output_type": "stream",
     "text": [
      "23.999999999999993\n",
      "[[ 1.         -0.5        -0.08333333]\n",
      " [ 0.          0.25       -0.20833333]\n",
      " [ 0.          0.          0.16666667]]\n"
     ]
    }
   ],
   "source": [
    "# Check the determinant of a matrix (a matrix is invertible if the determinant is not zero)\n",
    "print(np.linalg.det(X))\n",
    "\n",
    "# Matrix inverse\n",
    "# The following command stands for linear algebrar inverse.\n",
    "X_inv = np.linalg.inv(X)\n",
    "\n",
    "# Output the result\n",
    "print(X_inv)\n"
   ]
  },
  {
   "attachments": {},
   "cell_type": "markdown",
   "metadata": {},
   "source": [
    "<font size = \"5\">\n",
    "\n",
    "Try it yourself! Check that this is indeed an inverse:\n",
    "\n",
    "$X X_{inv} = \\begin{pmatrix} 1 & 0 & 0 \\\\ 0 & 1 & 0 \\\\ 0 & 0 & 1 \\end{pmatrix}$"
   ]
  },
  {
   "cell_type": "code",
   "execution_count": 197,
   "metadata": {},
   "outputs": [
    {
     "name": "stdout",
     "output_type": "stream",
     "text": [
      "[[1. 0. 0.]\n",
      " [0. 1. 0.]\n",
      " [0. 0. 1.]]\n"
     ]
    }
   ],
   "source": [
    "# Multiply \"X\" times \"X_inv\" using the command shown above\n",
    "# Note: Sometimes the result is shown in scientific notation.\n",
    "\n",
    "XX_inv = np.dot(X,X_inv)\n",
    "np.matmul(X,X_inv)\n",
    "\n",
    "XX_inv_inv = np.linalg.inv(XX_inv)\n",
    "print(XX_inv_inv)"
   ]
  }
 ],
 "metadata": {
  "kernelspec": {
   "display_name": "base",
   "language": "python",
   "name": "python3"
  },
  "language_info": {
   "codemirror_mode": {
    "name": "ipython",
    "version": 3
   },
   "file_extension": ".py",
   "mimetype": "text/x-python",
   "name": "python",
   "nbconvert_exporter": "python",
   "pygments_lexer": "ipython3",
   "version": "3.11.5"
  },
  "orig_nbformat": 4,
  "vscode": {
   "interpreter": {
    "hash": "45fc1f684f6f416f40889115beff3ddf69879b64cf4bfee48cb72a61e9d15d1a"
   }
  }
 },
 "nbformat": 4,
 "nbformat_minor": 2
}
