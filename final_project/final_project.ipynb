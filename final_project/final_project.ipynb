{
 "cells": [
  {
   "attachments": {},
   "cell_type": "markdown",
   "metadata": {},
   "source": [
    "# <span style=\"color:darkblue\"> QTM 151 - Final Project </span>"
   ]
  },
  {
   "attachments": {},
   "cell_type": "markdown",
   "metadata": {},
   "source": [
    "<font size=\"4\"> \n",
    "\n",
    "Virginia Cano, Hanna Florence, Angelina Lee, Chloe Zhao"
   ]
  },
  {
   "attachments": {},
   "cell_type": "markdown",
   "metadata": {},
   "source": [
    "<font size = \"5\">\n",
    "\n",
    "Importing relevant libraries"
   ]
  },
  {
   "cell_type": "code",
   "execution_count": 1,
   "metadata": {},
   "outputs": [],
   "source": [
    "import pandas as pd\n",
    "import matplotlib.pyplot as plt\n",
    "import numpy as np\n",
    "import statsmodels.formula.api as smf "
   ]
  },
  {
   "attachments": {},
   "cell_type": "markdown",
   "metadata": {},
   "source": [
    "<font size = \"6\">\n",
    "\n",
    "Introduction\n",
    "\n",
    "\n",
    "<font size = \"4\">\n",
    "QUESTION: How do lap times vary across circuits?\n",
    "\n",
    "<font size = \"3\">\n",
    "\n",
    "A markdown text with 1-2 paragraph that summarize the main goals of the project. The first paragraph should briefly describe what Formula 1 is, what question you’re interested in, and why it is relevant. The introduction should end with a high-level description of the results and the coming structure of the project. Try to make the text self-contained, intended for someone who isn’t familiar with Formula 1 or the dataset.\n"
   ]
  },
  {
   "cell_type": "markdown",
   "metadata": {},
   "source": [
    "<font size = \"6\">\n",
    "\n",
    "Data Description\n",
    "\n",
    "<font size = \"3\">\n",
    "\n",
    "We will be using the following tables to examine the research question\n",
    "\n",
    "<font size = \"5\">\n",
    "\n",
    "Circuits table:\n",
    "\n",
    "<font size = \"3\">\n",
    "\n",
    "The file circuits.csv contains information on Formula One racing circuits around the world. Its codebook is:\n",
    "\n",
    "<img src=\"figures/codebook_circuits.png\" alt=\"drawing\" width=\"500\"/>\n",
    "\n",
    "It is important to note that the variables of interest for our project are \"circuitId\", \"name\", and \"country\".\n",
    "\n",
    "<font size = \"5\">\n",
    "\n",
    "Races table:\n",
    "\n",
    "<font size = \"3\">\n",
    "\n",
    "The file races.csv contains information on Formula One races that have taken place since 1950. Its codebook is:\n",
    "\n",
    "<img src=\"figures/codebook_races.png\" alt=\"drawing\" width=\"500\"/>\n",
    "\n",
    "It is important to note that the variables of interest for our project are \"circuitId\", \"raceId\", and \"year\".\n",
    "\n",
    "<font size = \"5\">\n",
    "\n",
    "Results table:\n",
    "\n",
    "<font size = \"3\">\n",
    "\n",
    "The results.csv file contains data on the results of Formula One races. Its codebook is:\n",
    "\n",
    "<img src=\"figures/codebook_results.png\" alt=\"drawing\" width=\"500\"/>   \n",
    "\n",
    "It is important to note that the variables of interest for our project are \"circuitId\", \"milliseconds\", and \"fastestLapSpeed\"."
   ]
  },
  {
   "cell_type": "code",
   "execution_count": 87,
   "metadata": {},
   "outputs": [],
   "source": [
    "# here is code for importing data\n",
    "circuits = pd.read_csv(\"data_raw/circuits.csv\")\n",
    "circuit_subset = circuits[[\"circuitId\", \"name\", \"country\"]]\n",
    "\n",
    "races = pd.read_csv(\"data_raw/races.csv\")\n",
    "races_subset = races[[\"circuitId\", \"raceId\", \"year\"]]\n",
    "\n",
    "results = pd.read_csv(\"data_raw/results.csv\")\n",
    "results_subset = results[[\"raceId\", \"milliseconds\", \"fastestLapSpeed\"]]"
   ]
  },
  {
   "attachments": {},
   "cell_type": "markdown",
   "metadata": {},
   "source": [
    "\n",
    "<font size = \"6\">\n",
    "\n",
    "Merging data\n",
    "\n",
    "<font size = \"3\">\n",
    "\n",
    "Write a paragraph in markdown describing any merging procedures: \n"
   ]
  },
  {
   "cell_type": "code",
   "execution_count": 92,
   "metadata": {},
   "outputs": [],
   "source": [
    "# here is code for merging\n",
    "\n",
    "#merging circuits and races\n",
    "first_merge = pd.merge(circuit_subset,\n",
    "                         races_subset,\n",
    "                         on = \"circuitId\",\n",
    "                         how = \"left\")\n",
    "\n",
    "#merging new data set with results\n",
    "final_merge = pd.merge(first_merge,\n",
    "                         results_subset,\n",
    "                         on = \"raceId\",\n",
    "                         how = \"left\")"
   ]
  },
  {
   "attachments": {},
   "cell_type": "markdown",
   "metadata": {},
   "source": [
    "<font size = \"6\">\n",
    "\n",
    "Data Cleaning \n",
    "\n",
    "<font size = \"3\">\n",
    "\n",
    "Write a paragraph in markdown summarizing data cleaning procedures:\n"
   ]
  },
  {
   "cell_type": "code",
   "execution_count": 96,
   "metadata": {},
   "outputs": [
    {
     "name": "stdout",
     "output_type": "stream",
     "text": [
      "circuitId            int64\n",
      "name                object\n",
      "country             object\n",
      "raceId               int64\n",
      "year                 int64\n",
      "milliseconds       float64\n",
      "fastestLapSpeed    float64\n",
      "dtype: object\n"
     ]
    }
   ],
   "source": [
    "#Here is code for data cleaning\n",
    "\n",
    "#checking data types of all variables\n",
    "print(final_merge.dtypes)\n",
    "\n",
    "#cleaning milliseconds variable\n",
    "subset = final_merge.query(\"milliseconds.str.isnumeric() == False\")\n",
    "list_unique = pd.unique(subset[\"milliseconds\"])\n",
    "print(list_unique)\n",
    "\n",
    "final_merge[\"milliseconds\"] = final_merge[\"milliseconds\"].replace('\\\\N', np.nan,)\n",
    "final_merge[\"milliseconds\"] = pd.to_numeric(final_merge[\"milliseconds\"])\n",
    "\n",
    "#print(final_merge.dtypes)\n",
    "\n",
    "#cleaning fastest lap speed\n",
    "final_merge[\"fastestLapSpeed\"] = final_merge[\"fastestLapSpeed\"].replace('\\\\N', np.nan,)\n",
    "final_merge[\"fastestLapSpeed\"] = pd.to_numeric(final_merge[\"fastestLapSpeed\"])\n",
    "\n",
    "print(final_merge.dtypes)"
   ]
  },
  {
   "attachments": {},
   "cell_type": "markdown",
   "metadata": {},
   "source": [
    "<font size = \"6\">\n",
    "\n",
    "Data Description\n",
    "\n",
    "<font size = \"3\">\n",
    "\n",
    "The main columns of interest are:\n",
    "\n",
    "- CircuitID\n",
    "- Millisecond\n",
    "- FastestLapSpeed\n",
    "- Year"
   ]
  },
  {
   "cell_type": "code",
   "execution_count": 99,
   "metadata": {},
   "outputs": [
    {
     "data": {
      "text/html": [
       "<div>\n",
       "<style scoped>\n",
       "    .dataframe tbody tr th:only-of-type {\n",
       "        vertical-align: middle;\n",
       "    }\n",
       "\n",
       "    .dataframe tbody tr th {\n",
       "        vertical-align: top;\n",
       "    }\n",
       "\n",
       "    .dataframe thead th {\n",
       "        text-align: right;\n",
       "    }\n",
       "</style>\n",
       "<table border=\"1\" class=\"dataframe\">\n",
       "  <thead>\n",
       "    <tr style=\"text-align: right;\">\n",
       "      <th></th>\n",
       "      <th>milliseconds</th>\n",
       "      <th>fastestLapSpeed</th>\n",
       "      <th>circuitId</th>\n",
       "    </tr>\n",
       "  </thead>\n",
       "  <tbody>\n",
       "    <tr>\n",
       "      <th>mean_milliseconds</th>\n",
       "      <td>6.231870e+06</td>\n",
       "      <td>NaN</td>\n",
       "      <td>NaN</td>\n",
       "    </tr>\n",
       "    <tr>\n",
       "      <th>min_milliseconds</th>\n",
       "      <td>2.070710e+05</td>\n",
       "      <td>NaN</td>\n",
       "      <td>NaN</td>\n",
       "    </tr>\n",
       "    <tr>\n",
       "      <th>max_milliseconds</th>\n",
       "      <td>1.509054e+07</td>\n",
       "      <td>NaN</td>\n",
       "      <td>NaN</td>\n",
       "    </tr>\n",
       "    <tr>\n",
       "      <th>mean_fastestLapSpeed</th>\n",
       "      <td>NaN</td>\n",
       "      <td>203.089214</td>\n",
       "      <td>NaN</td>\n",
       "    </tr>\n",
       "    <tr>\n",
       "      <th>min_fastestLapSpeed</th>\n",
       "      <td>NaN</td>\n",
       "      <td>89.540000</td>\n",
       "      <td>NaN</td>\n",
       "    </tr>\n",
       "    <tr>\n",
       "      <th>max_fastestLapSpeed</th>\n",
       "      <td>NaN</td>\n",
       "      <td>257.320000</td>\n",
       "      <td>NaN</td>\n",
       "    </tr>\n",
       "    <tr>\n",
       "      <th>count_obs</th>\n",
       "      <td>NaN</td>\n",
       "      <td>NaN</td>\n",
       "      <td>25863.0</td>\n",
       "    </tr>\n",
       "  </tbody>\n",
       "</table>\n",
       "</div>"
      ],
      "text/plain": [
       "                      milliseconds  fastestLapSpeed  circuitId\n",
       "mean_milliseconds     6.231870e+06              NaN        NaN\n",
       "min_milliseconds      2.070710e+05              NaN        NaN\n",
       "max_milliseconds      1.509054e+07              NaN        NaN\n",
       "mean_fastestLapSpeed           NaN       203.089214        NaN\n",
       "min_fastestLapSpeed            NaN        89.540000        NaN\n",
       "max_fastestLapSpeed            NaN       257.320000        NaN\n",
       "count_obs                      NaN              NaN    25863.0"
      ]
     },
     "metadata": {},
     "output_type": "display_data"
    }
   ],
   "source": [
    "#conducting aggregate stats\n",
    "\n",
    "results_agg = final_merge.agg(mean_milliseconds = ('milliseconds','mean'),\n",
    "                          min_milliseconds =  ('milliseconds','min'),\n",
    "                          max_milliseconds =  ('milliseconds','max'),\n",
    "                          mean_fastestLapSpeed = ('fastestLapSpeed','mean'),\n",
    "                          min_fastestLapSpeed =  ('fastestLapSpeed','min'),\n",
    "                          max_fastestLapSpeed =  ('fastestLapSpeed','max'),\n",
    "                         count_obs   = ('circuitId',len))\n",
    "\n",
    "display(results_agg)"
   ]
  },
  {
   "attachments": {},
   "cell_type": "markdown",
   "metadata": {},
   "source": [
    "<font size = \"6\">\n",
    "\n",
    "Results\n",
    "\n",
    "<font size = \"3\">\n",
    "\n",
    "This should contain a combination of code to produce tables/plots and\n",
    "markdown text explaining what the findings are.\n",
    "o Be creative! The idea is to understand the relationship between different sets of\n",
    "columns to answer an interesting question about the data.\n",
    "\n"
   ]
  },
  {
   "cell_type": "code",
   "execution_count": 100,
   "metadata": {},
   "outputs": [],
   "source": [
    "# We probably need a couple of code chunks\n",
    "#Hannah and Virginia\n",
    "\n",
    "# circuits and average rmilliseconds (plot)\n",
    "# circuits and average fastest time (plot)\n",
    "\n",
    "\n",
    "# across time for top 3 circuit (making it into one line)\n",
    "#make table and then chart"
   ]
  },
  {
   "attachments": {},
   "cell_type": "markdown",
   "metadata": {},
   "source": [
    "<font size = \"6\">\n",
    "\n",
    "Discussion\n",
    "\n",
    "<font size = \"3\">\n",
    "\n",
    "\n",
    " Provide a brief 1 paragraph markdown chunk summarizing your findings. Describe the main things you learned from the data."
   ]
  }
 ],
 "metadata": {
  "kernelspec": {
   "display_name": "base",
   "language": "python",
   "name": "python3"
  },
  "language_info": {
   "codemirror_mode": {
    "name": "ipython",
    "version": 3
   },
   "file_extension": ".py",
   "mimetype": "text/x-python",
   "name": "python",
   "nbconvert_exporter": "python",
   "pygments_lexer": "ipython3",
   "version": "3.11.5"
  },
  "orig_nbformat": 4,
  "vscode": {
   "interpreter": {
    "hash": "45fc1f684f6f416f40889115beff3ddf69879b64cf4bfee48cb72a61e9d15d1a"
   }
  }
 },
 "nbformat": 4,
 "nbformat_minor": 2
}
