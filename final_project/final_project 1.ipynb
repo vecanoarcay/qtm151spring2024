{
 "cells": [
  {
   "attachments": {},
   "cell_type": "markdown",
   "metadata": {},
   "source": [
    "# <span style=\"color:darkblue\"> QTM 151 - Final Project </span>"
   ]
  },
  {
   "attachments": {},
   "cell_type": "markdown",
   "metadata": {},
   "source": [
    "<font size=\"4\"> \n",
    "\n",
    "Virginia Cano, Hanna Florence, Angelina Lee, Chloe Zhao"
   ]
  },
  {
   "attachments": {},
   "cell_type": "markdown",
   "metadata": {},
   "source": [
    "<font size = \"5\">\n",
    "\n",
    "Importing relevant libraries"
   ]
  },
  {
   "cell_type": "code",
   "execution_count": 1,
   "metadata": {},
   "outputs": [],
   "source": [
    "import pandas as pd\n",
    "import matplotlib.pyplot as plt\n",
    "import numpy as np\n",
    "import statsmodels.formula.api as smf "
   ]
  },
  {
   "attachments": {},
   "cell_type": "markdown",
   "metadata": {},
   "source": [
    "<font size = \"5\">\n",
    "\n",
    "Introduction\n",
    "\n",
    "\n",
    "<font size = \"4\">\n",
    "QUESTION: How do lap times vary across circuits?\n",
    "\n",
    "<font size = \"3\">\n",
    "\n",
    "#Hannah\n",
    "\n",
    "A markdown text with 1-2 paragraph that summarize the main goals of the project. The first paragraph should briefly describe what Formula 1 is, what question you’re interested in, and why it is relevant. The introduction should end with a high-level description of the results and the coming structure of the project. Try to make the text self-contained, intended for someone who isn’t familiar with Formula 1 or the dataset.\n"
   ]
  },
  {
   "cell_type": "markdown",
   "metadata": {},
   "source": [
    "<font size = \"5\">\n",
    "\n",
    "Data Description\n",
    "\n",
    "<font size = \"3\">\n",
    "\n",
    "We will be using the following tables to examine the research question\n",
    "\n",
    "<font size = \"5\">\n",
    "\n",
    "Circuits table:\n",
    "\n",
    "<font size = \"3\">\n",
    "\n",
    "The file circuits.csv contains information on Formula One racing circuits around the world. Its codebook is:\n",
    "\n",
    "<img src=\"figures/codebook_circuits.png\" alt=\"drawing\" width=\"500\"/>\n",
    "\n",
    "It is important to note that the variables of interest for our project are \"circuitId\", \"name\", and \"country\".\n",
    "\n",
    "<font size = \"5\">\n",
    "\n",
    "Races table:\n",
    "\n",
    "<font size = \"3\">\n",
    "\n",
    "The file races.csv contains information on Formula One races that have taken place since 1950. Its codebook is:\n",
    "\n",
    "<img src=\"figures/codebook_races.png\" alt=\"drawing\" width=\"500\"/>\n",
    "\n",
    "It is important to note that the variables of interest for our project are \"circuitId\", \"raceId\", and \"year\".\n",
    "\n",
    "<font size = \"5\">\n",
    "\n",
    "Results table:\n",
    "\n",
    "<font size = \"3\">\n",
    "\n",
    "The results.csv file contains data on the results of Formula One races. Its codebook is:\n",
    "\n",
    "<img src=\"figures/codebook_results.png\" alt=\"drawing\" width=\"500\"/>   \n",
    "\n",
    "It is important to note that the variables of interest for our project are \"circuitId\", \"milliseconds\", and \"fastestLapSpeed\"."
   ]
  },
  {
   "cell_type": "code",
   "execution_count": 8,
   "metadata": {},
   "outputs": [],
   "source": [
    "# here is code for importing data\n",
    "circuits = pd.read_csv(\"data_raw/circuits.csv\")\n",
    "circuit_subset = circuits[[\"circuitId\", \"name\", \"country\"]]\n",
    "\n",
    "races = pd.read_csv(\"data_raw/races.csv\")\n",
    "races_subset = races[[\"circuitId\", \"raceId\", \"year\"]]\n",
    "\n",
    "results = pd.read_csv(\"data_raw/results.csv\")\n",
    "results_subset = results[[\"raceId\", \"milliseconds\", \"fastestLapSpeed\"]]"
   ]
  },
  {
   "attachments": {},
   "cell_type": "markdown",
   "metadata": {},
   "source": [
    "\n",
    "<font size = \"5\">\n",
    "\n",
    "Merging data\n",
    "\n",
    "<font size = \"3\">\n",
    "\n",
    "Write a paragraph in markdown describing any merging procedures: \n"
   ]
  },
  {
   "cell_type": "code",
   "execution_count": 9,
   "metadata": {},
   "outputs": [],
   "source": [
    "# here is code for merging\n",
    "\n",
    "#merging circuits and races\n",
    "first_merge = pd.merge(circuit_subset,\n",
    "                         races_subset,\n",
    "                         on = \"circuitId\",\n",
    "                         how = \"left\")\n",
    "\n",
    "#merging new data set with results\n",
    "final_merge = pd.merge(first_merge,\n",
    "                         results_subset,\n",
    "                         on = \"raceId\",\n",
    "                         how = \"left\")"
   ]
  },
  {
   "attachments": {},
   "cell_type": "markdown",
   "metadata": {},
   "source": [
    "<font size = \"5\">\n",
    "\n",
    "Data Cleaning \n",
    "\n",
    "<font size = \"3\">\n",
    "\n",
    "Write a paragraph in markdown summarizing data cleaning procedures:\n"
   ]
  },
  {
   "cell_type": "code",
   "execution_count": 10,
   "metadata": {},
   "outputs": [
    {
     "name": "stdout",
     "output_type": "stream",
     "text": [
      "circuitId           int64\n",
      "name               object\n",
      "country            object\n",
      "raceId              int64\n",
      "year                int64\n",
      "milliseconds       object\n",
      "fastestLapSpeed    object\n",
      "dtype: object\n",
      "['\\\\N']\n",
      "circuitId            int64\n",
      "name                object\n",
      "country             object\n",
      "raceId               int64\n",
      "year                 int64\n",
      "milliseconds       float64\n",
      "fastestLapSpeed    float64\n",
      "dtype: object\n"
     ]
    }
   ],
   "source": [
    "#Here is code for data cleaning\n",
    "\n",
    "#checking data types of all variables\n",
    "print(final_merge.dtypes)\n",
    "\n",
    "#cleaning milliseconds variable\n",
    "subset = final_merge.query(\"milliseconds.str.isnumeric() == False\")\n",
    "list_unique = pd.unique(subset[\"milliseconds\"])\n",
    "print(list_unique)\n",
    "\n",
    "final_merge[\"milliseconds\"] = final_merge[\"milliseconds\"].replace('\\\\N', np.nan,)\n",
    "final_merge[\"milliseconds\"] = pd.to_numeric(final_merge[\"milliseconds\"])\n",
    "\n",
    "#print(final_merge.dtypes)\n",
    "\n",
    "#cleaning fastest lap speed\n",
    "final_merge[\"fastestLapSpeed\"] = final_merge[\"fastestLapSpeed\"].replace('\\\\N', np.nan,)\n",
    "final_merge[\"fastestLapSpeed\"] = pd.to_numeric(final_merge[\"fastestLapSpeed\"])\n",
    "\n",
    "print(final_merge.dtypes)"
   ]
  },
  {
   "attachments": {},
   "cell_type": "markdown",
   "metadata": {},
   "source": [
    "<font size = \"5\">\n",
    "\n",
    "Describing our data\n",
    "\n",
    "<font size = \"3\">\n",
    "\n",
    "Write a paragraph describing your main columns: \n",
    "- circuitID\n",
    "- millisecond\n",
    "- fastestLapSpeed\n",
    "- Year"
   ]
  },
  {
   "cell_type": "code",
   "execution_count": 11,
   "metadata": {},
   "outputs": [
    {
     "data": {
      "text/html": [
       "<div>\n",
       "<style scoped>\n",
       "    .dataframe tbody tr th:only-of-type {\n",
       "        vertical-align: middle;\n",
       "    }\n",
       "\n",
       "    .dataframe tbody tr th {\n",
       "        vertical-align: top;\n",
       "    }\n",
       "\n",
       "    .dataframe thead th {\n",
       "        text-align: right;\n",
       "    }\n",
       "</style>\n",
       "<table border=\"1\" class=\"dataframe\">\n",
       "  <thead>\n",
       "    <tr style=\"text-align: right;\">\n",
       "      <th></th>\n",
       "      <th>milliseconds</th>\n",
       "      <th>fastestLapSpeed</th>\n",
       "      <th>circuitId</th>\n",
       "    </tr>\n",
       "  </thead>\n",
       "  <tbody>\n",
       "    <tr>\n",
       "      <th>mean_milliseconds</th>\n",
       "      <td>6.231870e+06</td>\n",
       "      <td>NaN</td>\n",
       "      <td>NaN</td>\n",
       "    </tr>\n",
       "    <tr>\n",
       "      <th>min_milliseconds</th>\n",
       "      <td>2.070710e+05</td>\n",
       "      <td>NaN</td>\n",
       "      <td>NaN</td>\n",
       "    </tr>\n",
       "    <tr>\n",
       "      <th>max_milliseconds</th>\n",
       "      <td>1.509054e+07</td>\n",
       "      <td>NaN</td>\n",
       "      <td>NaN</td>\n",
       "    </tr>\n",
       "    <tr>\n",
       "      <th>mean_fastestLapSpeed</th>\n",
       "      <td>NaN</td>\n",
       "      <td>203.089214</td>\n",
       "      <td>NaN</td>\n",
       "    </tr>\n",
       "    <tr>\n",
       "      <th>min_fastestLapSpeed</th>\n",
       "      <td>NaN</td>\n",
       "      <td>89.540000</td>\n",
       "      <td>NaN</td>\n",
       "    </tr>\n",
       "    <tr>\n",
       "      <th>max_fastestLapSpeed</th>\n",
       "      <td>NaN</td>\n",
       "      <td>257.320000</td>\n",
       "      <td>NaN</td>\n",
       "    </tr>\n",
       "    <tr>\n",
       "      <th>count_obs</th>\n",
       "      <td>NaN</td>\n",
       "      <td>NaN</td>\n",
       "      <td>25863.0</td>\n",
       "    </tr>\n",
       "  </tbody>\n",
       "</table>\n",
       "</div>"
      ],
      "text/plain": [
       "                      milliseconds  fastestLapSpeed  circuitId\n",
       "mean_milliseconds     6.231870e+06              NaN        NaN\n",
       "min_milliseconds      2.070710e+05              NaN        NaN\n",
       "max_milliseconds      1.509054e+07              NaN        NaN\n",
       "mean_fastestLapSpeed           NaN       203.089214        NaN\n",
       "min_fastestLapSpeed            NaN        89.540000        NaN\n",
       "max_fastestLapSpeed            NaN       257.320000        NaN\n",
       "count_obs                      NaN              NaN    25863.0"
      ]
     },
     "metadata": {},
     "output_type": "display_data"
    }
   ],
   "source": [
    "results_agg = final_merge.agg(mean_milliseconds = ('milliseconds','mean'),\n",
    "                          min_milliseconds =  ('milliseconds','min'),\n",
    "                          max_milliseconds =  ('milliseconds','max'),\n",
    "                          mean_fastestLapSpeed = ('fastestLapSpeed','mean'),\n",
    "                          min_fastestLapSpeed =  ('fastestLapSpeed','min'),\n",
    "                          max_fastestLapSpeed =  ('fastestLapSpeed','max'),\n",
    "                         count_obs   = ('circuitId',len))\n",
    "\n",
    "display(results_agg)"
   ]
  },
  {
   "attachments": {},
   "cell_type": "markdown",
   "metadata": {},
   "source": [
    "<font size = \"5\">\n",
    "\n",
    "Results\n",
    "\n",
    "<font size = \"3\">\n",
    "\n",
    "This should contain a combination of code to produce tables/plots and\n",
    "markdown text explaining what the findings are.\n",
    "o Be creative! The idea is to understand the relationship between different sets of\n",
    "columns to answer an interesting question about the data.\n",
    "\n"
   ]
  },
  {
   "cell_type": "code",
   "execution_count": 12,
   "metadata": {},
   "outputs": [
    {
     "data": {
      "image/png": "[encoded data removed]",
      "text/plain": [
       "<Figure size 1200x600 with 1 Axes>"
      ]
     },
     "metadata": {},
     "output_type": "display_data"
    }
   ],
   "source": [
    "# We probably need a couple of code chunks\n",
    "\n",
    "# circuits and average milliseconds (plot)\n",
    "avg_milliseconds = final_merge.groupby('circuitId')['milliseconds'].mean().reset_index()\n",
    "\n",
    "plt.figure(figsize=(12, 6))\n",
    "plt.bar(avg_milliseconds['circuitId'], avg_milliseconds['milliseconds'], color='orange')\n",
    "plt.title('Average Race Time by Circuit')\n",
    "plt.xlabel('Circuit ID')\n",
    "plt.ylabel('Average Milliseconds')\n",
    "plt.xticks(rotation=90)\n",
    "plt.tight_layout()\n",
    "plt.show()\n"
   ]
  },
  {
   "cell_type": "markdown",
   "metadata": {},
   "source": [
    "<font size = \"4\">\n",
    "\n",
    "Average Race Time by Circuit Analysis\n",
    "\n",
    "<font size = \"3\">\n",
    "\n",
    "The bar graph showing average race time by circuit reveals insights into the characteristics of the different racing circuits. From the bar graph, we can see that the circuits with the highest average race times are circuits 19 (Indianapolis), 65 (Pescara), and 67 (Pedralbes). These circuits have certain characteristics that contribute to their longer durations. Circuit 65, Pescara, located in Italy, is known for its challenging layout with winding public roads, long straights, and tight corners. Circuit 67, Pedralbes, located in Barcelona, is known for its fast layout through public roads. Circuit 19, Indianapolis Motor Speedway, located in the US, is known for its long straights and banked corners. The intricacies of these circuits and their need for precision driving are factors that contribute to their longer race times. Conversely, from the plot, we can see that the circuits with the lowest average race times are circuits 29 (Adelaide), 78 (Losail), and 70 (Red Bull Ring). Circuit 29, Adelaide Street Circuit, located in Australia, is known for its short lap length and twisty street, making it difficult for drivers to have overtaking opportunities. Circuit 78, Losail International Circuit, located in Qatar, is known for its fast layout and smooth surface. Circuit 70, Red Bull Ring, located in Austria, is known for its short lap length and fast, sweeping corners. The bar graph gives better insight into which circuits produce the fastest and slowest average race times. By then analyzing the characteristics of those circuits, we can determine which circuit characteristics lead to faster average race times.\n"
   ]
  },
  {
   "cell_type": "code",
   "execution_count": 13,
   "metadata": {},
   "outputs": [
    {
     "data": {
      "image/png": "[encoded data removed]",
      "text/plain": [
       "<Figure size 1200x600 with 1 Axes>"
      ]
     },
     "metadata": {},
     "output_type": "display_data"
    }
   ],
   "source": [
    "# circuits and average fastest time (plot)\n",
    "\n",
    "avg_fastest_speed = final_merge.groupby('circuitId')['fastestLapSpeed'].mean()\n",
    "plt.figure(figsize=(12, 6))\n",
    "plt.bar(avg_fastest_speed.index, avg_fastest_speed, color='blue', alpha=0.7)\n",
    "plt.title('Average Fastest Lap Speed by Circuit')\n",
    "plt.xlabel('Circuit ID')\n",
    "plt.ylabel('Average Fastest Lap Speed (km/h)')\n",
    "plt.xticks(rotation=90)\n",
    "plt.tight_layout()\n",
    "plt.show()"
   ]
  },
  {
   "cell_type": "markdown",
   "metadata": {},
   "source": [
    "<font size = \"4\">\n",
    "\n",
    "Average Fastest Lap Speed by Circuit Analysis\n",
    "\n",
    "<font size = \"3\">\n",
    "\n",
    "The bar graph of average fastest lap speed by circuit serves as a valuable tool for both the technical aspects of racing. From the bar graph, we can see Circuit 6 (Monaco) has the lowest average fastest lap speed, while Circuit 14 (Monza) has the highest. Monaco's low average fastest lap speed is a result of its tight and twisty street circuit layout, with narrow streets and many tight corners that limit the speed at which cars can drive. Monza's high average fastest lap speed is a result of its high-speed layout, with long straights and fast corners. This bar graph is important as it provides valuable information into the performance and characteristics of different racing circuits. It allows racing teams, engineers, and the drivers to understand the nature of each circuit in terms of speed and performance. For teams and engineers, this information is crucial for developing race strategies, optimizing car setups, and figuring out the most effective driving techniques for each circuit.\n"
   ]
  },
  {
   "cell_type": "code",
   "execution_count": 30,
   "metadata": {},
   "outputs": [
    {
     "data": {
      "text/plain": [
       "<matplotlib.legend.Legend at 0x16ec20b50>"
      ]
     },
     "execution_count": 30,
     "metadata": {},
     "output_type": "execute_result"
    },
    {
     "data": {
      "image/png": "[encoded data removed]",
      "text/plain": [
       "<Figure size 640x480 with 1 Axes>"
      ]
     },
     "metadata": {},
     "output_type": "display_data"
    }
   ],
   "source": [
    "# Circuits across time\n",
    "\n",
    "#Plots highest\n",
    "# 19, 65, 67, 14\n",
    "#Plots lowest\n",
    "#29, 78, 70, 6\n",
    "\n",
    "data_1 = final_merge.query('circuitId == 19')\n",
    "\n",
    "# Write your own code\n",
    "data_1[[\"year\",\"milliseconds\",\"fastestLapSpeed\"]].set_index(\"year\").plot()\n",
    "plt.xlabel(\"Year\")\n",
    "plt.ylabel(\"Change\") #idk what to title this\n",
    "plt.legend([\"Milliseconds\",\"Fastest Lap Speed\"])\n"
   ]
  },
  {
   "cell_type": "markdown",
   "metadata": {},
   "source": [
    "<font size = \"4\">\n",
    "\n",
    "Last Analysis\n",
    "\n",
    "<font size = \"3\">\n",
    "\n",
    "XZZ"
   ]
  },
  {
   "attachments": {},
   "cell_type": "markdown",
   "metadata": {},
   "source": [
    "<font size = \"5\">\n",
    "\n",
    "Discussion\n",
    "\n",
    "<font size = \"3\">\n",
    "\n",
    "\n",
    " Provide a brief 1 paragraph markdown chunk summarizing your findings. Describe the main things you learned from the data."
   ]
  }
 ],
 "metadata": {
  "kernelspec": {
   "display_name": "base",
   "language": "python",
   "name": "python3"
  },
  "language_info": {
   "codemirror_mode": {
    "name": "ipython",
    "version": 3
   },
   "file_extension": ".py",
   "mimetype": "text/x-python",
   "name": "python",
   "nbconvert_exporter": "python",
   "pygments_lexer": "ipython3",
   "version": "3.11.5"
  },
  "orig_nbformat": 4,
  "vscode": {
   "interpreter": {
    "hash": "45fc1f684f6f416f40889115beff3ddf69879b64cf4bfee48cb72a61e9d15d1a"
   }
  }
 },
 "nbformat": 4,
 "nbformat_minor": 2
}
